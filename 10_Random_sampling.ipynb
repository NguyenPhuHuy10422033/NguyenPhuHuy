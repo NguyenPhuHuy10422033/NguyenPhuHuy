{
  "cells": [
    {
      "cell_type": "markdown",
      "metadata": {
        "id": "kiDfjDp49-f_"
      },
      "source": [
        "# Random Sampling"
      ]
    },
    {
      "cell_type": "code",
      "execution_count": null,
      "metadata": {
        "collapsed": true,
        "id": "j8JHJG5w9-gA"
      },
      "outputs": [],
      "source": [
        "import numpy as np"
      ]
    },
    {
      "cell_type": "code",
      "execution_count": null,
      "metadata": {
        "id": "Ds_PyymF9-gA",
        "outputId": "61b52664-e139-4289-be95-563a80cd975b"
      },
      "outputs": [
        {
          "data": {
            "text/plain": [
              "'1.11.2'"
            ]
          },
          "execution_count": 3,
          "metadata": {},
          "output_type": "execute_result"
        }
      ],
      "source": [
        "np.__version__"
      ]
    },
    {
      "cell_type": "code",
      "execution_count": null,
      "metadata": {
        "id": "PPkXTHEh9-gB"
      },
      "outputs": [],
      "source": [
        "__author__ = 'kyubyong. longinglove@nate.com'"
      ]
    },
    {
      "cell_type": "markdown",
      "metadata": {
        "id": "fU4XFgxP9-gB"
      },
      "source": [
        "## Simple random data"
      ]
    },
    {
      "cell_type": "markdown",
      "metadata": {
        "id": "i0Vi1Fnx9-gB"
      },
      "source": [
        "Q1. Create an array of shape (3, 2) and populate it with random samples from a uniform distribution over [0, 1)."
      ]
    },
    {
      "cell_type": "code",
      "execution_count": null,
      "metadata": {
        "id": "IDEUEC_49-gB",
        "outputId": "64057067-2680-44f3-a67a-6d9a18b4ba95"
      },
      "outputs": [
        {
          "data": {
            "text/plain": [
              "array([[ 0.13879034,  0.71300174],\n",
              "       [ 0.08121322,  0.00393554],\n",
              "       [ 0.02349471,  0.56677474]])"
            ]
          },
          "execution_count": 49,
          "metadata": {},
          "output_type": "execute_result"
        }
      ],
      "source": []
    },
    {
      "cell_type": "markdown",
      "metadata": {
        "id": "HZzvMxAW9-gB"
      },
      "source": [
        "Q2. Create an array of shape (1000, 1000) and populate it with random samples from a standard normal distribution. And verify that the mean and standard deviation is close enough to 0 and 1 repectively."
      ]
    },
    {
      "cell_type": "code",
      "execution_count": null,
      "metadata": {
        "id": "8iKi3TTv9-gB",
        "outputId": "542852e0-3bc6-4035-e3b4-4787e590c9e0"
      },
      "outputs": [
        {
          "name": "stdout",
          "output_type": "stream",
          "text": [
            "-0.00110028519551\n",
            "0.999683483393\n"
          ]
        }
      ],
      "source": []
    },
    {
      "cell_type": "markdown",
      "metadata": {
        "id": "CRg7al6f9-gB"
      },
      "source": [
        "Q3. Create an array of shape (3, 2) and populate it with random integers ranging from 0 to 3 (inclusive) from a discrete uniform distribution."
      ]
    },
    {
      "cell_type": "code",
      "execution_count": null,
      "metadata": {
        "id": "SozXZw2U9-gB",
        "outputId": "d933f782-aa0d-4c81-86b6-cf1e984ab35c"
      },
      "outputs": [
        {
          "data": {
            "text/plain": [
              "array([[1, 3],\n",
              "       [3, 0],\n",
              "       [0, 0]])"
            ]
          },
          "execution_count": 44,
          "metadata": {},
          "output_type": "execute_result"
        }
      ],
      "source": []
    },
    {
      "cell_type": "markdown",
      "metadata": {
        "id": "-xAS-5-V9-gB"
      },
      "source": [
        "Q4. Extract 1 elements from x randomly such that each of them would be associated with probabilities .3, .5, .2. Then print the result 10 times."
      ]
    },
    {
      "cell_type": "code",
      "execution_count": null,
      "metadata": {
        "id": "8RbEHvqt9-gC",
        "outputId": "0e70be75-f66f-4d21-8e28-f3737055fec4"
      },
      "outputs": [
        {
          "name": "stdout",
          "output_type": "stream",
          "text": [
            "5 out of 10\n",
            "2 out of 10\n",
            "3 out of 10\n",
            "5 out of 10\n",
            "2 out of 10\n",
            "5 out of 10\n",
            "2 out of 10\n",
            "2 out of 10\n",
            "2 out of 10\n",
            "5 out of 10\n"
          ]
        }
      ],
      "source": [
        "x = [b'3 out of 10', b'5 out of 10', b'2 out of 10']\n"
      ]
    },
    {
      "cell_type": "markdown",
      "metadata": {
        "id": "ZCBFiied9-gC"
      },
      "source": [
        "Q5. Extract 3 different integers from 0 to 9 randomly with the same probabilities."
      ]
    },
    {
      "cell_type": "code",
      "execution_count": null,
      "metadata": {
        "id": "c19eu3HW9-gC",
        "outputId": "f47b5083-6b29-4746-baaf-c52e7fb702b0"
      },
      "outputs": [
        {
          "data": {
            "text/plain": [
              "array([5, 4, 0])"
            ]
          },
          "execution_count": 66,
          "metadata": {},
          "output_type": "execute_result"
        }
      ],
      "source": []
    },
    {
      "cell_type": "markdown",
      "metadata": {
        "id": "2JbSqb9X9-gC"
      },
      "source": [
        "## Permutations"
      ]
    },
    {
      "cell_type": "markdown",
      "metadata": {
        "id": "jvuKxhqC9-gC"
      },
      "source": [
        "Q6. Shuffle numbers between 0 and 9 (inclusive)."
      ]
    },
    {
      "cell_type": "code",
      "execution_count": null,
      "metadata": {
        "id": "2XtvPgic9-gC",
        "outputId": "3e5d274b-5df3-4a1d-b787-3954ebaa3f05"
      },
      "outputs": [
        {
          "name": "stdout",
          "output_type": "stream",
          "text": [
            "[2 3 8 4 5 1 0 6 9 7]\n"
          ]
        }
      ],
      "source": []
    },
    {
      "cell_type": "code",
      "execution_count": null,
      "metadata": {
        "id": "AY-El2hm9-gC",
        "outputId": "5ef71bbd-7378-4d6a-ca63-2cf55917260c"
      },
      "outputs": [
        {
          "name": "stdout",
          "output_type": "stream",
          "text": [
            "[5 2 7 4 1 0 6 8 9 3]\n"
          ]
        }
      ],
      "source": [
        "# Or\n"
      ]
    },
    {
      "cell_type": "markdown",
      "metadata": {
        "id": "gbd3JYCE9-gC"
      },
      "source": [
        "## Random generator"
      ]
    },
    {
      "cell_type": "markdown",
      "metadata": {
        "id": "83JWsOX79-gC"
      },
      "source": [
        "Q7. Assign number 10 to the seed of the random generator so that you can get the same value next time."
      ]
    },
    {
      "cell_type": "code",
      "execution_count": null,
      "metadata": {
        "collapsed": true,
        "id": "BW6wje3J9-gD"
      },
      "outputs": [],
      "source": []
    }
  ],
  "metadata": {
    "kernelspec": {
      "display_name": "Python 2",
      "language": "python",
      "name": "python2"
    },
    "language_info": {
      "codemirror_mode": {
        "name": "ipython",
        "version": 2
      },
      "file_extension": ".py",
      "mimetype": "text/x-python",
      "name": "python",
      "nbconvert_exporter": "python",
      "pygments_lexer": "ipython2",
      "version": "2.7.10"
    },
    "colab": {
      "provenance": []
    }
  },
  "nbformat": 4,
  "nbformat_minor": 0
}