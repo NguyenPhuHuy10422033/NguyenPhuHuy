{
  "cells": [
    {
      "cell_type": "markdown",
      "metadata": {
        "id": "BDTacpoh-JFo"
      },
      "source": [
        "# Soring, searching, and counting"
      ]
    },
    {
      "cell_type": "code",
      "execution_count": null,
      "metadata": {
        "collapsed": true,
        "id": "6ZHerWRd-JFp"
      },
      "outputs": [],
      "source": [
        "import numpy as np"
      ]
    },
    {
      "cell_type": "code",
      "execution_count": null,
      "metadata": {
        "id": "8Qm6PIMe-JFp",
        "outputId": "3f5ca7f9-731c-4f25-9294-3f9d7f3ae821"
      },
      "outputs": [
        {
          "data": {
            "text/plain": [
              "'1.11.2'"
            ]
          },
          "execution_count": 2,
          "metadata": {},
          "output_type": "execute_result"
        }
      ],
      "source": [
        "np.__version__"
      ]
    },
    {
      "cell_type": "code",
      "execution_count": null,
      "metadata": {
        "collapsed": true,
        "id": "NbyFvpk_-JFq"
      },
      "outputs": [],
      "source": [
        "author = 'kyubyong. longinglove@nate.com'"
      ]
    },
    {
      "cell_type": "markdown",
      "metadata": {
        "id": "K-VYjLsD-JFq"
      },
      "source": [
        "## Sorting"
      ]
    },
    {
      "cell_type": "markdown",
      "metadata": {
        "id": "HyLWN7Db-JFq"
      },
      "source": [
        "Q1. Sort x along the second axis."
      ]
    },
    {
      "cell_type": "code",
      "execution_count": null,
      "metadata": {
        "id": "NnGcFc8h-JFq",
        "outputId": "67c1f6b4-7649-4794-c158-f5abe56a2be6"
      },
      "outputs": [
        {
          "name": "stdout",
          "output_type": "stream",
          "text": [
            "[[1 4]\n",
            " [1 3]]\n"
          ]
        }
      ],
      "source": [
        "x = np.array([[1,4],[3,1]])\n"
      ]
    },
    {
      "cell_type": "markdown",
      "metadata": {
        "id": "pADzFoTl-JFq"
      },
      "source": [
        "Q2. Sort pairs of surnames and first names and return their indices. (first by surname, then by name)."
      ]
    },
    {
      "cell_type": "code",
      "execution_count": null,
      "metadata": {
        "id": "6QmGBRor-JFq",
        "outputId": "eb4564b3-c2ea-4681-bfc0-3d448585f4f0"
      },
      "outputs": [
        {
          "name": "stdout",
          "output_type": "stream",
          "text": [
            "[1 2 0]\n"
          ]
        }
      ],
      "source": [
        "surnames =    ('Hertz',    'Galilei', 'Hertz')\n",
        "first_names = ('Heinrich', 'Galileo', 'Gustav')\n"
      ]
    },
    {
      "cell_type": "markdown",
      "metadata": {
        "id": "_QR_wxi8-JFr"
      },
      "source": [
        "Q3. Get the indices that would sort x along the second axis."
      ]
    },
    {
      "cell_type": "code",
      "execution_count": null,
      "metadata": {
        "id": "BcX4tomI-JFr",
        "outputId": "4ac674ef-352a-43a9-bb96-c8d0d7b55ed7"
      },
      "outputs": [
        {
          "name": "stdout",
          "output_type": "stream",
          "text": [
            "[[0 1]\n",
            " [1 0]]\n"
          ]
        }
      ],
      "source": [
        "x = np.array([[1,4],[3,1]])\n"
      ]
    },
    {
      "cell_type": "markdown",
      "metadata": {
        "id": "oWYZ23Nf-JFr"
      },
      "source": [
        "Q4. Create an array such that its fifth element would be the same as the element of sorted x, and it divide other elements by their value."
      ]
    },
    {
      "cell_type": "code",
      "execution_count": null,
      "metadata": {
        "id": "56E8L4Yh-JFr",
        "outputId": "6decfa02-f1a2-4faa-93e1-ff159855a2c6"
      },
      "outputs": [
        {
          "name": "stdout",
          "output_type": "stream",
          "text": [
            "x = [5 1 6 3 9 8 2 7 4 0]\n",
            "\n",
            "Check the fifth element of this new array is 5, the first four elements are all smaller than 5, and 6th through the end are bigger than 5\n",
            "[2 0 4 3 1 5 8 7 6 9]\n"
          ]
        }
      ],
      "source": [
        "x = np.random.permutation(10)\n",
        "print \"x =\", x\n"
      ]
    },
    {
      "cell_type": "markdown",
      "metadata": {
        "id": "gtQIVRH9-JFr"
      },
      "source": [
        "Q5. Create the indices of an array such that its third element would be the same as the element of sorted x, and it divide other elements by their value."
      ]
    },
    {
      "cell_type": "code",
      "execution_count": null,
      "metadata": {
        "id": "QLJtgydz-JFr",
        "outputId": "a9562620-ac33-4fb3-8206-bfa9a9af4fab"
      },
      "outputs": [
        {
          "name": "stdout",
          "output_type": "stream",
          "text": [
            "x = [2 8 3 7 5 6 4 0 9 1]\n",
            "partitioned = [0 1 2 3 4 5 8 6 9 7]\n",
            "indices = [0 1 2 3 4 5 8 6 9 7]\n"
          ]
        }
      ],
      "source": [
        "x = np.random.permutation(10)\n",
        "print \"x =\", x\n"
      ]
    },
    {
      "cell_type": "markdown",
      "metadata": {
        "id": "Xig09hHr-JFr"
      },
      "source": [
        "## Searching"
      ]
    },
    {
      "cell_type": "markdown",
      "metadata": {
        "id": "TSTw2RDo-JFr"
      },
      "source": [
        "Q6. Get the maximum and minimum values and their indices of x along the second axis."
      ]
    },
    {
      "cell_type": "code",
      "execution_count": null,
      "metadata": {
        "id": "9f7jDa7_-JFs",
        "outputId": "4e7cf26d-9a22-441d-e187-1ec06e9da62c"
      },
      "outputs": [
        {
          "name": "stdout",
          "output_type": "stream",
          "text": [
            "x = [[0 5 9 8 2]\n",
            " [3 7 4 1 6]]\n",
            "maximum values = [9 7]\n",
            "max indices = [2 1]\n",
            "minimum values = [0 1]\n",
            "min indices = [0 3]\n"
          ]
        }
      ],
      "source": [
        "x = np.random.permutation(10).reshape(2, 5)\n",
        "print \"x =\", x\n"
      ]
    },
    {
      "cell_type": "markdown",
      "metadata": {
        "id": "m-N62Dax-JFs"
      },
      "source": [
        "Q7. Get the maximum and minimum values and their indices of x along the second axis, ignoring NaNs."
      ]
    },
    {
      "cell_type": "code",
      "execution_count": null,
      "metadata": {
        "id": "GT6IT0Er-JFs",
        "outputId": "d1d94b0b-924d-4fb4-945c-8054d435575a"
      },
      "outputs": [
        {
          "name": "stdout",
          "output_type": "stream",
          "text": [
            "maximum values ignoring NaNs = [ 4.  3.]\n",
            "max indices = [1 0]\n",
            "minimum values ignoring NaNs = [ 4.  2.]\n",
            "min indices = [1 1]\n"
          ]
        }
      ],
      "source": [
        "x = np.array([[np.nan, 4], [3, 2]])\n"
      ]
    },
    {
      "cell_type": "markdown",
      "metadata": {
        "id": "45cnkrRm-JFs"
      },
      "source": [
        "Q8. Get the values and indices of the elements that are bigger than 2 in x.\n"
      ]
    },
    {
      "cell_type": "code",
      "execution_count": null,
      "metadata": {
        "id": "XAVIHMY0-JFs",
        "outputId": "8a074961-fa4f-44ff-afb0-b2dc95362822"
      },
      "outputs": [
        {
          "name": "stdout",
          "output_type": "stream",
          "text": [
            "Values bigger than 2 = [3 3 5]\n",
            "Their indices are  (array([0, 1, 1], dtype=int64), array([2, 1, 2], dtype=int64))\n"
          ]
        }
      ],
      "source": [
        "x = np.array([[1, 2, 3], [1, 3, 5]])\n"
      ]
    },
    {
      "cell_type": "markdown",
      "metadata": {
        "id": "SsrSTryD-JFs"
      },
      "source": [
        "Q9. Get the indices of the elements that are bigger than 2 in the flattend x."
      ]
    },
    {
      "cell_type": "code",
      "execution_count": null,
      "metadata": {
        "id": "qiJ8lzpc-JFs",
        "outputId": "aff2e696-c329-4667-e0ad-ff97ea9dfad9"
      },
      "outputs": [
        {
          "name": "stdout",
          "output_type": "stream",
          "text": [
            "[0 1 2 3 4 5]\n"
          ]
        }
      ],
      "source": [
        "x = np.array([[1, 2, 3], [1, 3, 5]])\n"
      ]
    },
    {
      "cell_type": "markdown",
      "metadata": {
        "id": "VEachIbF-JFs"
      },
      "source": [
        "Q10. Check the elements of x and return 0 if it is less than 0, otherwise the element itself."
      ]
    },
    {
      "cell_type": "code",
      "execution_count": null,
      "metadata": {
        "id": "FMxcRrA9-JFs",
        "outputId": "dbff0358-5f6a-4cb6-d7cc-fdd753e3bf85"
      },
      "outputs": [
        {
          "name": "stdout",
          "output_type": "stream",
          "text": [
            "[[0 0 0]\n",
            " [0 0 0]\n",
            " [1 2 3]]\n"
          ]
        }
      ],
      "source": [
        "x = np.arange(-5, 4).reshape(3, 3)\n"
      ]
    },
    {
      "cell_type": "markdown",
      "metadata": {
        "id": "B8LPejRn-JFs"
      },
      "source": [
        "Q11. Get the indices where elements of y should be inserted to x to maintain order."
      ]
    },
    {
      "cell_type": "code",
      "execution_count": null,
      "metadata": {
        "id": "nJmrDR36-JFs",
        "outputId": "468867ac-3060-46b8-929c-f5c876ee2282"
      },
      "outputs": [
        {
          "data": {
            "text/plain": [
              "array([0, 2, 1, 3], dtype=int64)"
            ]
          },
          "execution_count": 109,
          "metadata": {},
          "output_type": "execute_result"
        }
      ],
      "source": [
        "x = [1, 3, 5, 7, 9]\n",
        "y = [0, 4, 2, 6]\n"
      ]
    },
    {
      "cell_type": "markdown",
      "metadata": {
        "id": "qg-bKKIF-JFt"
      },
      "source": [
        "## Counting"
      ]
    },
    {
      "cell_type": "markdown",
      "metadata": {
        "id": "OnX-9dii-JFt"
      },
      "source": [
        "Q12. Get the number of nonzero elements in x."
      ]
    },
    {
      "cell_type": "code",
      "execution_count": null,
      "metadata": {
        "id": "zZvo3FMQ-JFt",
        "outputId": "30b933d9-8f7f-4748-dd99-c7026f9ab6fc"
      },
      "outputs": [
        {
          "name": "stdout",
          "output_type": "stream",
          "text": [
            "5\n"
          ]
        }
      ],
      "source": [
        "x = [[0,1,7,0,0],[3,0,0,2,19]]\n"
      ]
    },
    {
      "cell_type": "code",
      "execution_count": null,
      "metadata": {
        "collapsed": true,
        "id": "i-Id2K4N-JFt"
      },
      "outputs": [],
      "source": []
    }
  ],
  "metadata": {
    "kernelspec": {
      "display_name": "Python 2",
      "language": "python",
      "name": "python2"
    },
    "language_info": {
      "codemirror_mode": {
        "name": "ipython",
        "version": 2
      },
      "file_extension": ".py",
      "mimetype": "text/x-python",
      "name": "python",
      "nbconvert_exporter": "python",
      "pygments_lexer": "ipython2",
      "version": "2.7.10"
    },
    "colab": {
      "provenance": []
    }
  },
  "nbformat": 4,
  "nbformat_minor": 0
}