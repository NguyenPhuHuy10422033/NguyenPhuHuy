{
  "cells": [
    {
      "cell_type": "markdown",
      "metadata": {
        "id": "mEcx-mDx8p04"
      },
      "source": [
        "# Array creation routines"
      ]
    },
    {
      "cell_type": "markdown",
      "metadata": {
        "id": "htu4OHGu8p05"
      },
      "source": [
        "## Ones and zeros"
      ]
    },
    {
      "cell_type": "code",
      "execution_count": null,
      "metadata": {
        "collapsed": true,
        "id": "c3iNcdsi8p05"
      },
      "outputs": [],
      "source": [
        "import numpy as np"
      ]
    },
    {
      "cell_type": "markdown",
      "metadata": {
        "id": "G4-4d9Cj8p06"
      },
      "source": [
        "Create a new array of 2*2 integers, without initializing entries."
      ]
    },
    {
      "cell_type": "code",
      "execution_count": null,
      "metadata": {
        "id": "JAnhf3Mt8p06",
        "outputId": "13ac8339-001d-49e7-888f-8718a181a037"
      },
      "outputs": [
        {
          "data": {
            "text/plain": [
              "array([[0, 0],\n",
              "       [0, 0]])"
            ]
          },
          "execution_count": 27,
          "metadata": {},
          "output_type": "execute_result"
        }
      ],
      "source": []
    },
    {
      "cell_type": "markdown",
      "metadata": {
        "id": "Svo16M0X8p06"
      },
      "source": [
        "Let X = np.array([1,2,3], [4,5,6], np.int32).\n",
        "Create a new array with the same shape and type as X."
      ]
    },
    {
      "cell_type": "code",
      "execution_count": null,
      "metadata": {
        "id": "Pm8iRIol8p06",
        "outputId": "c1d2f5e7-2b90-4500-b264-009e8be5fb02"
      },
      "outputs": [
        {
          "data": {
            "text/plain": [
              "array([[1, 2, 3],\n",
              "       [4, 5, 6]])"
            ]
          },
          "execution_count": 32,
          "metadata": {},
          "output_type": "execute_result"
        }
      ],
      "source": [
        "X = np.array([[1,2,3], [4,5,6]], np.int32)\n"
      ]
    },
    {
      "cell_type": "markdown",
      "metadata": {
        "id": "1TqbZlch8p06"
      },
      "source": [
        "Create a 3-D array with ones on the diagonal and zeros elsewhere."
      ]
    },
    {
      "cell_type": "code",
      "execution_count": null,
      "metadata": {
        "id": "ZLfJYP2L8p07",
        "outputId": "4b114892-3c72-412a-d425-8c01ad80346c"
      },
      "outputs": [
        {
          "data": {
            "text/plain": [
              "array([[ 1.,  0.,  0.],\n",
              "       [ 0.,  1.,  0.],\n",
              "       [ 0.,  0.,  1.]])"
            ]
          },
          "execution_count": 33,
          "metadata": {},
          "output_type": "execute_result"
        }
      ],
      "source": []
    },
    {
      "cell_type": "code",
      "execution_count": null,
      "metadata": {
        "id": "QBi2v3NX8p07",
        "outputId": "bb87369c-c477-4656-bbb7-a81f18202aca"
      },
      "outputs": [
        {
          "data": {
            "text/plain": [
              "array([[ 1.,  0.,  0.],\n",
              "       [ 0.,  1.,  0.],\n",
              "       [ 0.,  0.,  1.]])"
            ]
          },
          "execution_count": 35,
          "metadata": {},
          "output_type": "execute_result"
        }
      ],
      "source": []
    },
    {
      "cell_type": "markdown",
      "metadata": {
        "id": "coGKIurG8p07"
      },
      "source": [
        "Create a new array of 3*2 float numbers, filled with ones."
      ]
    },
    {
      "cell_type": "code",
      "execution_count": null,
      "metadata": {
        "id": "tRJviqUn8p07",
        "outputId": "9ba0f7da-cefe-4309-c579-f6f9a3cd44e1"
      },
      "outputs": [
        {
          "data": {
            "text/plain": [
              "array([[ 1.,  1.],\n",
              "       [ 1.,  1.],\n",
              "       [ 1.,  1.]])"
            ]
          },
          "execution_count": 36,
          "metadata": {},
          "output_type": "execute_result"
        }
      ],
      "source": []
    },
    {
      "cell_type": "markdown",
      "metadata": {
        "id": "wthOtRIY8p07"
      },
      "source": [
        "Let x = np.arange(4, dtype=np.int64). Create an array of ones with the same shape and type as X."
      ]
    },
    {
      "cell_type": "code",
      "execution_count": null,
      "metadata": {
        "id": "I39nFTew8p07",
        "outputId": "bbf4c89a-08ad-411f-c29d-ba4b808f34a2"
      },
      "outputs": [
        {
          "data": {
            "text/plain": [
              "array([1, 1, 1, 1], dtype=int64)"
            ]
          },
          "execution_count": 59,
          "metadata": {},
          "output_type": "execute_result"
        }
      ],
      "source": [
        "x = np.arange(4, dtype=np.int64)\n"
      ]
    },
    {
      "cell_type": "markdown",
      "metadata": {
        "id": "zkPe3F3N8p07"
      },
      "source": [
        "Create a new array of 3*2 float numbers, filled with zeros."
      ]
    },
    {
      "cell_type": "code",
      "execution_count": null,
      "metadata": {
        "id": "oLxkfVo68p07",
        "outputId": "ba3e1e24-8338-4170-a9fe-942e5e7941da"
      },
      "outputs": [
        {
          "data": {
            "text/plain": [
              "array([[ 0.,  0.],\n",
              "       [ 0.,  0.],\n",
              "       [ 0.,  0.]])"
            ]
          },
          "execution_count": 45,
          "metadata": {},
          "output_type": "execute_result"
        }
      ],
      "source": []
    },
    {
      "cell_type": "markdown",
      "metadata": {
        "id": "5xIneHx48p07"
      },
      "source": [
        "Let x = np.arange(4, dtype=np.int64). Create an array of zeros with the same shape and type as X."
      ]
    },
    {
      "cell_type": "code",
      "execution_count": null,
      "metadata": {
        "id": "spVy-g318p07",
        "outputId": "b73bccb2-1467-404c-8b8d-981762316e68"
      },
      "outputs": [
        {
          "data": {
            "text/plain": [
              "array([0, 0, 0, 0], dtype=int64)"
            ]
          },
          "execution_count": 58,
          "metadata": {},
          "output_type": "execute_result"
        }
      ],
      "source": [
        "x = np.arange(4, dtype=np.int64)\n"
      ]
    },
    {
      "cell_type": "markdown",
      "metadata": {
        "id": "y7226Dbg8p08"
      },
      "source": [
        "Create a new array of 2*5 uints, filled with 6."
      ]
    },
    {
      "cell_type": "code",
      "execution_count": null,
      "metadata": {
        "id": "xvkzm8YX8p08",
        "outputId": "19a977b1-7efc-4990-d1dd-159f993ab9a4"
      },
      "outputs": [
        {
          "data": {
            "text/plain": [
              "array([[6, 6, 6, 6, 6],\n",
              "       [6, 6, 6, 6, 6]], dtype=uint32)"
            ]
          },
          "execution_count": 49,
          "metadata": {},
          "output_type": "execute_result"
        }
      ],
      "source": []
    },
    {
      "cell_type": "markdown",
      "metadata": {
        "id": "3GDNxcWC8p08"
      },
      "source": [
        "Let x = np.arange(4, dtype=np.int64). Create an array of 6's with the same shape and type as X."
      ]
    },
    {
      "cell_type": "code",
      "execution_count": null,
      "metadata": {
        "id": "TwOM6Ifh8p08",
        "outputId": "dcd5cc3c-2c27-4893-a69f-af87074ace0b"
      },
      "outputs": [
        {
          "data": {
            "text/plain": [
              "array([6, 6, 6, 6], dtype=int64)"
            ]
          },
          "execution_count": 79,
          "metadata": {},
          "output_type": "execute_result"
        }
      ],
      "source": [
        "x = np.arange(4, dtype=np.int64)\n"
      ]
    },
    {
      "cell_type": "markdown",
      "metadata": {
        "id": "qqNvq2Hd8p08"
      },
      "source": [
        "## From existing data"
      ]
    },
    {
      "cell_type": "markdown",
      "metadata": {
        "id": "T8puycx-8p08"
      },
      "source": [
        "Create an array of [1, 2, 3]."
      ]
    },
    {
      "cell_type": "code",
      "execution_count": null,
      "metadata": {
        "id": "nwwU_-n98p08",
        "outputId": "89a01b72-2e80-4367-ee78-103b424c2631"
      },
      "outputs": [
        {
          "data": {
            "text/plain": [
              "array([1, 2, 3])"
            ]
          },
          "execution_count": 53,
          "metadata": {},
          "output_type": "execute_result"
        }
      ],
      "source": []
    },
    {
      "cell_type": "markdown",
      "metadata": {
        "id": "PqNwBe9D8p08"
      },
      "source": [
        "Let x = [1, 2]. Convert it into an array."
      ]
    },
    {
      "cell_type": "code",
      "execution_count": null,
      "metadata": {
        "id": "J2cEFo5g8p08",
        "outputId": "591b01ea-322a-416c-cd88-85e02aaa9a8d"
      },
      "outputs": [
        {
          "data": {
            "text/plain": [
              "array([1, 2])"
            ]
          },
          "execution_count": 60,
          "metadata": {},
          "output_type": "execute_result"
        }
      ],
      "source": [
        "x = [1,2]\n"
      ]
    },
    {
      "cell_type": "markdown",
      "metadata": {
        "id": "F7AO3ZfD8p08"
      },
      "source": [
        "Let X = np.array([[1, 2], [3, 4]]). Convert it into a matrix."
      ]
    },
    {
      "cell_type": "code",
      "execution_count": null,
      "metadata": {
        "id": "0ATdrQ7v8p08",
        "outputId": "359ec6dc-3806-4bac-8d9a-6227f71ddb69"
      },
      "outputs": [
        {
          "data": {
            "text/plain": [
              "matrix([[1, 2],\n",
              "        [3, 4]])"
            ]
          },
          "execution_count": 62,
          "metadata": {},
          "output_type": "execute_result"
        }
      ],
      "source": [
        "X = np.array([[1, 2], [3, 4]])\n"
      ]
    },
    {
      "cell_type": "markdown",
      "metadata": {
        "id": "zbrtMSkY8p08"
      },
      "source": [
        "Let x = [1, 2]. Conver it into an array of `float`."
      ]
    },
    {
      "cell_type": "code",
      "execution_count": null,
      "metadata": {
        "id": "G_BFqqmz8p08",
        "outputId": "18b0e905-971c-4207-af51-6badf21e55fa"
      },
      "outputs": [
        {
          "data": {
            "text/plain": [
              "array([ 1.,  2.])"
            ]
          },
          "execution_count": 63,
          "metadata": {},
          "output_type": "execute_result"
        }
      ],
      "source": [
        "x = [1, 2]\n"
      ]
    },
    {
      "cell_type": "markdown",
      "metadata": {
        "id": "dsxIiya78p08"
      },
      "source": [
        "Let x = np.array([30]). Convert it into scalar of its single element, i.e. 30."
      ]
    },
    {
      "cell_type": "code",
      "execution_count": null,
      "metadata": {
        "id": "EIhmhUUG8p09",
        "outputId": "3f1309f5-f2fa-4105-b303-2c5dc8391b82"
      },
      "outputs": [
        {
          "data": {
            "text/plain": [
              "30"
            ]
          },
          "execution_count": 67,
          "metadata": {},
          "output_type": "execute_result"
        }
      ],
      "source": [
        "x = np.array([30])\n"
      ]
    },
    {
      "cell_type": "markdown",
      "metadata": {
        "id": "_Nd8sGda8p09"
      },
      "source": [
        "Let x = np.array([1, 2, 3]). Create a array copy of x, which has a different id from x."
      ]
    },
    {
      "cell_type": "code",
      "execution_count": null,
      "metadata": {
        "id": "cTXAwNjj8p09",
        "outputId": "5a1dad7d-de89-4a16-8d45-16b3db4708f5"
      },
      "outputs": [
        {
          "name": "stdout",
          "output_type": "stream",
          "text": [
            "70140352 [1 2 3]\n",
            "70140752 [1 2 3]\n"
          ]
        }
      ],
      "source": [
        "x = np.array([1, 2, 3])\n"
      ]
    },
    {
      "cell_type": "markdown",
      "metadata": {
        "id": "mvcMRTeQ8p09"
      },
      "source": [
        "## Numerical ranges"
      ]
    },
    {
      "cell_type": "markdown",
      "metadata": {
        "id": "2Lz1sXIf8p09"
      },
      "source": [
        "Create an array of 2, 4, 6, 8, ..., 100."
      ]
    },
    {
      "cell_type": "code",
      "execution_count": null,
      "metadata": {
        "id": "nESRjJCg8p09",
        "outputId": "4fd76b76-0908-4bfe-bf54-7acad8b0731c"
      },
      "outputs": [
        {
          "data": {
            "text/plain": [
              "array([  2,   4,   6,   8,  10,  12,  14,  16,  18,  20,  22,  24,  26,\n",
              "        28,  30,  32,  34,  36,  38,  40,  42,  44,  46,  48,  50,  52,\n",
              "        54,  56,  58,  60,  62,  64,  66,  68,  70,  72,  74,  76,  78,\n",
              "        80,  82,  84,  86,  88,  90,  92,  94,  96,  98, 100])"
            ]
          },
          "execution_count": 85,
          "metadata": {},
          "output_type": "execute_result"
        }
      ],
      "source": []
    },
    {
      "cell_type": "markdown",
      "metadata": {
        "id": "vIM9Kgpq8p09"
      },
      "source": [
        "Create a 1-D array of 50 evenly spaced elements between 3. and 10., inclusive."
      ]
    },
    {
      "cell_type": "code",
      "execution_count": null,
      "metadata": {
        "id": "rG3PBReE8p1A",
        "outputId": "f55cc430-6f3f-458f-c4c6-b95553856e16"
      },
      "outputs": [
        {
          "data": {
            "text/plain": [
              "array([  3.        ,   3.14285714,   3.28571429,   3.42857143,\n",
              "         3.57142857,   3.71428571,   3.85714286,   4.        ,\n",
              "         4.14285714,   4.28571429,   4.42857143,   4.57142857,\n",
              "         4.71428571,   4.85714286,   5.        ,   5.14285714,\n",
              "         5.28571429,   5.42857143,   5.57142857,   5.71428571,\n",
              "         5.85714286,   6.        ,   6.14285714,   6.28571429,\n",
              "         6.42857143,   6.57142857,   6.71428571,   6.85714286,\n",
              "         7.        ,   7.14285714,   7.28571429,   7.42857143,\n",
              "         7.57142857,   7.71428571,   7.85714286,   8.        ,\n",
              "         8.14285714,   8.28571429,   8.42857143,   8.57142857,\n",
              "         8.71428571,   8.85714286,   9.        ,   9.14285714,\n",
              "         9.28571429,   9.42857143,   9.57142857,   9.71428571,\n",
              "         9.85714286,  10.        ])"
            ]
          },
          "execution_count": 86,
          "metadata": {},
          "output_type": "execute_result"
        }
      ],
      "source": []
    },
    {
      "cell_type": "markdown",
      "metadata": {
        "id": "hcHsrdA28p1A"
      },
      "source": [
        "Create a 1-D array of 50 element spaced evenly on a log scale between 3. and 10., exclusive."
      ]
    },
    {
      "cell_type": "code",
      "execution_count": null,
      "metadata": {
        "id": "oDku5K-g8p1B",
        "outputId": "c28b6750-9109-4241-9ea9-f65a4135070b"
      },
      "outputs": [
        {
          "data": {
            "text/plain": [
              "array([  1.00000000e+03,   1.38038426e+03,   1.90546072e+03,\n",
              "         2.63026799e+03,   3.63078055e+03,   5.01187234e+03,\n",
              "         6.91830971e+03,   9.54992586e+03,   1.31825674e+04,\n",
              "         1.81970086e+04,   2.51188643e+04,   3.46736850e+04,\n",
              "         4.78630092e+04,   6.60693448e+04,   9.12010839e+04,\n",
              "         1.25892541e+05,   1.73780083e+05,   2.39883292e+05,\n",
              "         3.31131121e+05,   4.57088190e+05,   6.30957344e+05,\n",
              "         8.70963590e+05,   1.20226443e+06,   1.65958691e+06,\n",
              "         2.29086765e+06,   3.16227766e+06,   4.36515832e+06,\n",
              "         6.02559586e+06,   8.31763771e+06,   1.14815362e+07,\n",
              "         1.58489319e+07,   2.18776162e+07,   3.01995172e+07,\n",
              "         4.16869383e+07,   5.75439937e+07,   7.94328235e+07,\n",
              "         1.09647820e+08,   1.51356125e+08,   2.08929613e+08,\n",
              "         2.88403150e+08,   3.98107171e+08,   5.49540874e+08,\n",
              "         7.58577575e+08,   1.04712855e+09,   1.44543977e+09,\n",
              "         1.99526231e+09,   2.75422870e+09,   3.80189396e+09,\n",
              "         5.24807460e+09,   7.24435960e+09])"
            ]
          },
          "execution_count": 88,
          "metadata": {},
          "output_type": "execute_result"
        }
      ],
      "source": []
    },
    {
      "cell_type": "markdown",
      "metadata": {
        "id": "TMOV3U5u8p1B"
      },
      "source": [
        "## Building matrices"
      ]
    },
    {
      "cell_type": "markdown",
      "metadata": {
        "id": "JguEngI88p1B"
      },
      "source": [
        "Let X = np.array([[ 0,  1,  2,  3],\n",
        "                  [ 4,  5,  6,  7],\n",
        "                 [ 8,  9, 10, 11]]).\n",
        "                 Get the diagonal of X, that is, [0, 5, 10]."
      ]
    },
    {
      "cell_type": "code",
      "execution_count": null,
      "metadata": {
        "id": "P_ix_4yH8p1B",
        "outputId": "a92430e7-6251-4e24-d123-ae58b0e77dfd"
      },
      "outputs": [
        {
          "data": {
            "text/plain": [
              "array([ 0,  5, 10])"
            ]
          },
          "execution_count": 93,
          "metadata": {},
          "output_type": "execute_result"
        }
      ],
      "source": [
        "X = np.array([[ 0, 1, 2, 3], [ 4, 5, 6, 7], [ 8, 9, 10, 11]])\n"
      ]
    },
    {
      "cell_type": "markdown",
      "metadata": {
        "id": "V05ttje78p1B"
      },
      "source": [
        "Create a 2-D array whose diagonal equals [1, 2, 3, 4] and 0's elsewhere."
      ]
    },
    {
      "cell_type": "code",
      "execution_count": null,
      "metadata": {
        "id": "9QT_LyoC8p1B",
        "outputId": "1cdc90e7-6a3b-402b-ffdb-356127d8f669"
      },
      "outputs": [
        {
          "data": {
            "text/plain": [
              "array([[1, 0, 0, 0],\n",
              "       [0, 2, 0, 0],\n",
              "       [0, 0, 3, 0],\n",
              "       [0, 0, 0, 4]])"
            ]
          },
          "execution_count": 95,
          "metadata": {},
          "output_type": "execute_result"
        }
      ],
      "source": []
    },
    {
      "cell_type": "markdown",
      "metadata": {
        "id": "79QiiEn78p1B"
      },
      "source": [
        "Create an array which looks like below.\n",
        "array([[ 0.,  0.,  0.,  0.,  0.],\n",
        "       [ 1.,  0.,  0.,  0.,  0.],\n",
        "       [ 1.,  1.,  0.,  0.,  0.]])"
      ]
    },
    {
      "cell_type": "code",
      "execution_count": null,
      "metadata": {
        "id": "-W95NQ1u8p1B",
        "outputId": "c03c4884-d448-450f-91bb-8a39867c1029"
      },
      "outputs": [
        {
          "data": {
            "text/plain": [
              "array([[ 0.,  0.,  0.,  0.,  0.],\n",
              "       [ 1.,  0.,  0.,  0.,  0.],\n",
              "       [ 1.,  1.,  0.,  0.,  0.]])"
            ]
          },
          "execution_count": 97,
          "metadata": {},
          "output_type": "execute_result"
        }
      ],
      "source": []
    },
    {
      "cell_type": "markdown",
      "metadata": {
        "id": "9W61g4O-8p1B"
      },
      "source": [
        "Create an array which looks like below.\n",
        "array([[ 0,  0,  0],\n",
        "       [ 4,  0,  0],\n",
        "       [ 7,  8,  0],\n",
        "       [10, 11, 12]])"
      ]
    },
    {
      "cell_type": "code",
      "execution_count": null,
      "metadata": {
        "id": "RWNboUOw8p1B",
        "outputId": "c824ddba-f49b-4821-a98e-5ffb8f17f289"
      },
      "outputs": [
        {
          "data": {
            "text/plain": [
              "array([[ 0,  0,  0],\n",
              "       [ 4,  0,  0],\n",
              "       [ 7,  8,  0],\n",
              "       [10, 11, 12]])"
            ]
          },
          "execution_count": 101,
          "metadata": {},
          "output_type": "execute_result"
        }
      ],
      "source": []
    },
    {
      "cell_type": "markdown",
      "metadata": {
        "id": "_xDzeJDC8p1B"
      },
      "source": [
        "Create an array which looks like below. array([[ 1,  2,  3],\n",
        "       [ 4,  5,  6],\n",
        "       [ 0,  8,  9],\n",
        "       [ 0,  0, 12]])"
      ]
    },
    {
      "cell_type": "code",
      "execution_count": null,
      "metadata": {
        "id": "N7y0X0Vq8p1B",
        "outputId": "9dced7ae-3233-44a7-a3db-fa4c865ba700"
      },
      "outputs": [
        {
          "data": {
            "text/plain": [
              "array([[ 1,  2,  3],\n",
              "       [ 4,  5,  6],\n",
              "       [ 0,  8,  9],\n",
              "       [ 0,  0, 12]])"
            ]
          },
          "execution_count": 102,
          "metadata": {},
          "output_type": "execute_result"
        }
      ],
      "source": []
    }
  ],
  "metadata": {
    "kernelspec": {
      "display_name": "Python 2",
      "language": "python",
      "name": "python2"
    },
    "language_info": {
      "codemirror_mode": {
        "name": "ipython",
        "version": 2
      },
      "file_extension": ".py",
      "mimetype": "text/x-python",
      "name": "python",
      "nbconvert_exporter": "python",
      "pygments_lexer": "ipython2",
      "version": "2.7.6"
    },
    "colab": {
      "provenance": []
    }
  },
  "nbformat": 4,
  "nbformat_minor": 0
}